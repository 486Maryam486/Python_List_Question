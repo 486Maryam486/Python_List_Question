{
  "nbformat": 4,
  "nbformat_minor": 0,
  "metadata": {
    "colab": {
      "name": "Assignment/Task 2.ipynb",
      "provenance": []
    },
    "kernelspec": {
      "name": "python3",
      "display_name": "Python 3"
    },
    "language_info": {
      "name": "python"
    }
  },
  "cells": [
    {
      "cell_type": "markdown",
      "metadata": {
        "id": "cFLhpSK2NQVE"
      },
      "source": [
        "#1) Is a list mutable?\n",
        "**Answer:** Yes, lists are mutable."
      ]
    },
    {
      "cell_type": "code",
      "metadata": {
        "colab": {
          "base_uri": "https://localhost:8080/"
        },
        "id": "2_KY8jZK89vD",
        "outputId": "5f402e8c-9839-4230-8d00-e254b63968d4"
      },
      "source": [
        "list = [1,2,3,4,5]\n",
        "list[0] = 'Mary'\n",
        "print(list)"
      ],
      "execution_count": 19,
      "outputs": [
        {
          "output_type": "stream",
          "text": [
            "['Mary', 2, 3, 4, 5]\n"
          ],
          "name": "stdout"
        }
      ]
    },
    {
      "cell_type": "markdown",
      "metadata": {
        "id": "AoDhl-qjN1wR"
      },
      "source": [
        "# 2) Does a list need to be homogeneous? \n",
        "**Answer:** List can contain heterogeneous values such as integers, floats, strings, tuples, lists, and dictionaries.\n"
      ]
    },
    {
      "cell_type": "code",
      "metadata": {
        "colab": {
          "base_uri": "https://localhost:8080/"
        },
        "id": "_iDPSa8S8--i",
        "outputId": "8850ad33-47dd-4578-ae75-a9a1fd95af69"
      },
      "source": [
        "list = [1,'Mary',5.5,{'number':1200}]\n",
        "print(list)"
      ],
      "execution_count": 20,
      "outputs": [
        {
          "output_type": "stream",
          "text": [
            "[1, 'Mary', 5.5, {'number': 1200}]\n"
          ],
          "name": "stdout"
        }
      ]
    },
    {
      "cell_type": "markdown",
      "metadata": {
        "id": "IMphbTVSOfF7"
      },
      "source": [
        "# 3) What is the difference between a list and a tuple.\n",
        "**Answer:**  [Lists] are mutable, while (tuples) are immutable."
      ]
    },
    {
      "cell_type": "code",
      "metadata": {
        "colab": {
          "base_uri": "https://localhost:8080/"
        },
        "id": "N_Z3VJ409IGf",
        "outputId": "2cb502ae-bc26-4578-8ca5-81e250ba1789"
      },
      "source": [
        "# Example of a mutable list:\n",
        "list = [1,2,3,4,5]\n",
        "list[2] = 'Two'\n",
        "print(list)\n",
        "# Example of an immutable tuple:\n",
        "tuple = (1,'Two',3.0,[4])\n",
        "print(tuple)\n",
        "#tuple['Two'] = 2"
      ],
      "execution_count": 21,
      "outputs": [
        {
          "output_type": "stream",
          "text": [
            "[1, 2, 'Two', 4, 5]\n",
            "(1, 'Two', 3.0, [4])\n"
          ],
          "name": "stdout"
        }
      ]
    },
    {
      "cell_type": "markdown",
      "metadata": {
        "id": "rEbpst9fPTh7"
      },
      "source": [
        "# 4) How to find the number of elements in the list? \n",
        "**Answer:** With len() function.\n"
      ]
    },
    {
      "cell_type": "code",
      "metadata": {
        "colab": {
          "base_uri": "https://localhost:8080/"
        },
        "id": "BGpH7M1T9Q3b",
        "outputId": "6240151a-c3fc-46d3-ef86-a14f9e813639"
      },
      "source": [
        "list = [1,2,3]\n",
        "print(len(list))"
      ],
      "execution_count": 22,
      "outputs": [
        {
          "output_type": "stream",
          "text": [
            "3\n"
          ],
          "name": "stdout"
        }
      ]
    },
    {
      "cell_type": "markdown",
      "metadata": {
        "id": "RAH5j-E7Pjyo"
      },
      "source": [
        "# 5) How to check whether the list is empty or not?\n"
      ]
    },
    {
      "cell_type": "code",
      "metadata": {
        "colab": {
          "base_uri": "https://localhost:8080/"
        },
        "id": "AB_M58HX-HHc",
        "outputId": "6df56375-5c96-4c21-f173-ab69e7aa7956"
      },
      "source": [
        "a =[]\n",
        "if not a:\n",
        "  print(\"List is empty\")"
      ],
      "execution_count": 23,
      "outputs": [
        {
          "output_type": "stream",
          "text": [
            "List is empty\n"
          ],
          "name": "stdout"
        }
      ]
    },
    {
      "cell_type": "markdown",
      "metadata": {
        "id": "s_wSyS7tPqCr"
      },
      "source": [
        "6) How to find the first and last element of the list?\n",
        "**Answer:** With indexing and reverse indexing\n"
      ]
    },
    {
      "cell_type": "code",
      "metadata": {
        "colab": {
          "base_uri": "https://localhost:8080/"
        },
        "id": "1bmtzqwk-ODi",
        "outputId": "f4d8717f-d338-4d08-fcb5-c0365c236003"
      },
      "source": [
        "list = [1,2,3,4,5]\n",
        "# To find the first element of the list:\n",
        "a= list[0]\n",
        "print('the first element is :',a)\n",
        "# To find the last element of the list:\n",
        "b= list[-1]\n",
        "print('the last element is :',b)"
      ],
      "execution_count": 24,
      "outputs": [
        {
          "output_type": "stream",
          "text": [
            "the first element is : 1\n",
            "the last element is : 5\n"
          ],
          "name": "stdout"
        }
      ]
    },
    {
      "cell_type": "markdown",
      "metadata": {
        "id": "p4tuBUIwQYTq"
      },
      "source": [
        "# 7) How to find the largest and lowest value in the list?\n",
        "**Answer:** min() and max() function.\n"
      ]
    },
    {
      "cell_type": "code",
      "metadata": {
        "colab": {
          "base_uri": "https://localhost:8080/"
        },
        "id": "Gyso9eSA-1qh",
        "outputId": "7e1cca72-2dd3-4ebe-dfe1-fc76f64a59ba"
      },
      "source": [
        "list = [1,2,3,4,5,6,7,8,9,10]\n",
        "print(min(list))\n",
        "print(max(list))"
      ],
      "execution_count": 25,
      "outputs": [
        {
          "output_type": "stream",
          "text": [
            "1\n",
            "10\n"
          ],
          "name": "stdout"
        }
      ]
    },
    {
      "cell_type": "markdown",
      "metadata": {
        "id": "_PCod7jKVjJv"
      },
      "source": [
        "# 8) How to access elements of the list?\n",
        "**Answer:** By giving the index of the element in 1D array or loc() and iloc() function for dataframe.\n"
      ]
    },
    {
      "cell_type": "code",
      "metadata": {
        "colab": {
          "base_uri": "https://localhost:8080/"
        },
        "id": "EcgGzdZu_MdU",
        "outputId": "5517c447-d52a-4530-aba1-e5117eff4826"
      },
      "source": [
        "# Example of 1D array\n",
        "list = [1,2,3,4,5]\n",
        "print(list[3])\n",
        "print(list[0:4])\n",
        "# Example of Dataframe\n",
        "import pandas as pd\n",
        "list = [1,2,3,4,5,6,7,8,9]\n",
        "df=pd.DataFrame(list)\n",
        "a = df.iloc[:3]\n",
        "print(a)"
      ],
      "execution_count": 26,
      "outputs": [
        {
          "output_type": "stream",
          "text": [
            "4\n",
            "[1, 2, 3, 4]\n",
            "   0\n",
            "0  1\n",
            "1  2\n",
            "2  3\n"
          ],
          "name": "stdout"
        }
      ]
    },
    {
      "cell_type": "markdown",
      "metadata": {
        "id": "7g7OBDBRWnGQ"
      },
      "source": [
        "# 9) Remove elements in a list before a specific index\n",
        "\n"
      ]
    },
    {
      "cell_type": "code",
      "metadata": {
        "colab": {
          "base_uri": "https://localhost:8080/"
        },
        "id": "dksnd9CFA09b",
        "outputId": "91874b08-57fc-4ea8-cd58-1c76cd1c17f5"
      },
      "source": [
        "list = [1,2,3,4,5,6,7,8,9]\n",
        "print(list)\n",
        "\n",
        "#Example of pop function\n",
        "list.pop(0)\n",
        "print(list)\n",
        "\n",
        "#Example of Remove function\n",
        "list.remove(2)\n",
        "print(list)\n",
        "\n",
        "#Example of delete function\n",
        "del list[0]\n",
        "print(list)"
      ],
      "execution_count": 27,
      "outputs": [
        {
          "output_type": "stream",
          "text": [
            "[1, 2, 3, 4, 5, 6, 7, 8, 9]\n",
            "[2, 3, 4, 5, 6, 7, 8, 9]\n",
            "[3, 4, 5, 6, 7, 8, 9]\n",
            "[4, 5, 6, 7, 8, 9]\n"
          ],
          "name": "stdout"
        }
      ]
    },
    {
      "cell_type": "markdown",
      "metadata": {
        "id": "7xHUsi5JXBGE"
      },
      "source": [
        "#10) Remove elements in a list between 2 indices"
      ]
    },
    {
      "cell_type": "code",
      "metadata": {
        "id": "VB6bygMxBaZM"
      },
      "source": [
        ""
      ],
      "execution_count": 27,
      "outputs": []
    },
    {
      "cell_type": "markdown",
      "metadata": {
        "id": "G3YxMsBmYhsY"
      },
      "source": [
        "# 11) Return every 2nd element in a list between 2 indices\n",
        "\n"
      ]
    },
    {
      "cell_type": "code",
      "metadata": {
        "colab": {
          "base_uri": "https://localhost:8080/"
        },
        "id": "qGYb-svzYn_k",
        "outputId": "a2f5dfdf-42c2-4b2e-cdb5-1043658fa11d"
      },
      "source": [
        "a = [1,2,3,4,5,6,7,8,9]\n",
        "del a[::2]\n",
        "print(a)"
      ],
      "execution_count": 28,
      "outputs": [
        {
          "output_type": "stream",
          "text": [
            "[2, 4, 6, 8]\n"
          ],
          "name": "stdout"
        }
      ]
    },
    {
      "cell_type": "markdown",
      "metadata": {
        "id": "bg4H3HnpYu1T"
      },
      "source": [
        "# 12) Get the first element from each nested list in a list\n",
        "\n"
      ]
    },
    {
      "cell_type": "markdown",
      "metadata": {
        "id": "HJ4CdKlDYzuh"
      },
      "source": [
        "# 13) How to modify elements of the list?\n"
      ]
    },
    {
      "cell_type": "code",
      "metadata": {
        "colab": {
          "base_uri": "https://localhost:8080/"
        },
        "id": "z_ZTWy1FY3lM",
        "outputId": "e8e3afc2-4d15-4ea8-9317-27dcf8b93568"
      },
      "source": [
        "list =[1,2,3,5]\n",
        "list[3]=4\n",
        "print(list)"
      ],
      "execution_count": 29,
      "outputs": [
        {
          "output_type": "stream",
          "text": [
            "[1, 2, 3, 4]\n"
          ],
          "name": "stdout"
        }
      ]
    },
    {
      "cell_type": "markdown",
      "metadata": {
        "id": "HmfCu9HJZS0l"
      },
      "source": [
        "#14) How to concatenate two lists?\n",
        "**Answer:** By using extend() function"
      ]
    },
    {
      "cell_type": "code",
      "metadata": {
        "colab": {
          "base_uri": "https://localhost:8080/"
        },
        "id": "bMGEPD5MIn9q",
        "outputId": "2d908de8-ccbd-44b7-d2ba-9721932ee54e"
      },
      "source": [
        "a=[1,2,3]\n",
        "b=[4,5,6]\n",
        "a.extend(b)\n",
        "print(a)"
      ],
      "execution_count": 30,
      "outputs": [
        {
          "output_type": "stream",
          "text": [
            "[1, 2, 3, 4, 5, 6]\n"
          ],
          "name": "stdout"
        }
      ]
    },
    {
      "cell_type": "markdown",
      "metadata": {
        "id": "FF8DzSPBZnqT"
      },
      "source": [
        "# 15) How to add two lists element-wise in python?\n",
        "**Answer:** By using append() function\n"
      ]
    },
    {
      "cell_type": "code",
      "metadata": {
        "colab": {
          "base_uri": "https://localhost:8080/"
        },
        "id": "yZl6GYrwJHiv",
        "outputId": "d35a4675-885c-478b-e7a8-eb23f2d6bac5"
      },
      "source": [
        "a=[1,2,3]\n",
        "b=[4,5,6]\n",
        "a.append(b)\n",
        "print(a)"
      ],
      "execution_count": 31,
      "outputs": [
        {
          "output_type": "stream",
          "text": [
            "[1, 2, 3, [4, 5, 6]]\n"
          ],
          "name": "stdout"
        }
      ]
    },
    {
      "cell_type": "markdown",
      "metadata": {
        "id": "udEVKIfPZ_kG"
      },
      "source": [
        "# 16) Difference between del and clear?\n",
        "**Answer:** Del will delete the elements while clear will clear the whole list."
      ]
    },
    {
      "cell_type": "code",
      "metadata": {
        "colab": {
          "base_uri": "https://localhost:8080/"
        },
        "id": "bE6borDraaq8",
        "outputId": "23f3be12-dc31-475e-9d60-f230ff42e092"
      },
      "source": [
        "list= [1, 2, 3,4,5,6]\n",
        "print (list)\n",
        "\n",
        "# Example of Delete \n",
        "del list[0]\n",
        "print(list)\n",
        "\n",
        "# Example of clear\n",
        "list.clear()\n",
        "print(list)"
      ],
      "execution_count": 32,
      "outputs": [
        {
          "output_type": "stream",
          "text": [
            "[1, 2, 3, 4, 5, 6]\n",
            "[2, 3, 4, 5, 6]\n",
            "[]\n"
          ],
          "name": "stdout"
        }
      ]
    },
    {
      "cell_type": "markdown",
      "metadata": {
        "id": "cx6QfbJ-cvjV"
      },
      "source": [
        "# 17) Difference between remove and pop?\n",
        "**Answer:** Remove() will remove the object while, pop will remove the element by it's index.\n"
      ]
    },
    {
      "cell_type": "code",
      "metadata": {
        "colab": {
          "base_uri": "https://localhost:8080/"
        },
        "id": "E-HqE67JdYNC",
        "outputId": "1493902e-e7cf-4175-9946-48c46b9a7d52"
      },
      "source": [
        "list = [1,2,3,4,5,6,7,8,9]\n",
        "print(list)\n",
        "\n",
        "#Example of pop function\n",
        "list.pop(0)\n",
        "print(list)\n",
        "\n",
        "#Example of Remove function\n",
        "list1 = [1,2,3,4,5,6,7,8,9]\n",
        "print(list1)\n",
        "list1.remove(2)\n",
        "print(list1)"
      ],
      "execution_count": 33,
      "outputs": [
        {
          "output_type": "stream",
          "text": [
            "[1, 2, 3, 4, 5, 6, 7, 8, 9]\n",
            "[2, 3, 4, 5, 6, 7, 8, 9]\n",
            "[1, 2, 3, 4, 5, 6, 7, 8, 9]\n",
            "[1, 3, 4, 5, 6, 7, 8, 9]\n"
          ],
          "name": "stdout"
        }
      ]
    },
    {
      "cell_type": "markdown",
      "metadata": {
        "id": "oDhId7pQdw7P"
      },
      "source": [
        "# 18) Difference between append and extend?\n",
        "**Answer:** append() method adds an element to a list, and the extend() method concatenates the first list with another list (or another iterable)."
      ]
    },
    {
      "cell_type": "code",
      "metadata": {
        "colab": {
          "base_uri": "https://localhost:8080/"
        },
        "id": "tYjXL3KDeN_e",
        "outputId": "70952d9b-40c7-4941-f3d5-a08b8784706c"
      },
      "source": [
        "a=[1,2,3]\n",
        "b=[4,5,6]\n",
        "a.extend(b)\n",
        "print(a)\n",
        "a.append(b)\n",
        "print(a)"
      ],
      "execution_count": 34,
      "outputs": [
        {
          "output_type": "stream",
          "text": [
            "[1, 2, 3, 4, 5, 6]\n",
            "[1, 2, 3, 4, 5, 6, [4, 5, 6]]\n"
          ],
          "name": "stdout"
        }
      ]
    },
    {
      "cell_type": "markdown",
      "metadata": {
        "id": "rTCVAKUweZPK"
      },
      "source": [
        "# 19) Difference between indexing and Slicing?\n",
        "**Answer:** index will give us the index of specified value, while slicing will give value or group of values of specified index.\n",
        "\n"
      ]
    },
    {
      "cell_type": "markdown",
      "metadata": {
        "id": "rZt9HEh-ecdq"
      },
      "source": [
        "## 20) Difference between sort and sortted?\n",
        "**Answer:** The sort() function will modify\n",
        "the list it is called on. The sorted() function will create a \n",
        "new list containing a sorted version of the list it is given."
      ]
    },
    {
      "cell_type": "code",
      "metadata": {
        "colab": {
          "base_uri": "https://localhost:8080/"
        },
        "id": "aBgc6jN7ew9u",
        "outputId": "d684cf55-2091-4b76-adbc-0aaa43041451"
      },
      "source": [
        "#Example of sort \n",
        "a = [1,8,2,7,3,6,9,4,5]\n",
        "a.sort()\n",
        "print(a)\n",
        "\n",
        "#Example of sortted\n",
        "a = [1,8,2,7,3,6,9,4,5]\n",
        "print(sorted(a))\n",
        "print(a)"
      ],
      "execution_count": 35,
      "outputs": [
        {
          "output_type": "stream",
          "text": [
            "[1, 2, 3, 4, 5, 6, 7, 8, 9]\n",
            "[1, 2, 3, 4, 5, 6, 7, 8, 9]\n",
            "[1, 8, 2, 7, 3, 6, 9, 4, 5]\n"
          ],
          "name": "stdout"
        }
      ]
    },
    {
      "cell_type": "markdown",
      "metadata": {
        "id": "ZdjHwLX5fc8u"
      },
      "source": [
        "# 21) Difference between reverse and reversed?\n",
        "**Answer:** reverse() actually reverses the elements in the container. reversed() doesn't actually reverse anything, it merely returns an object that can be used to iterate over the container's elements in reverse order."
      ]
    },
    {
      "cell_type": "markdown",
      "metadata": {
        "id": "zVx3HxbgjRUN"
      },
      "source": [
        "## 22) Difference between copy and deep copy?\n",
        "\n"
      ]
    },
    {
      "cell_type": "markdown",
      "metadata": {
        "id": "7QPPJY_i1R_f"
      },
      "source": [
        ""
      ]
    },
    {
      "cell_type": "markdown",
      "metadata": {
        "id": "zL93Sezfhde-"
      },
      "source": [
        "# 23) How to remove duplicate elements in the list?"
      ]
    },
    {
      "cell_type": "code",
      "metadata": {
        "colab": {
          "base_uri": "https://localhost:8080/"
        },
        "id": "uebhFsEIhVKY",
        "outputId": "02646906-58c3-4006-b15a-6907db39b54b"
      },
      "source": [
        "dup = [2, 4, 10, 20, 5, 2, 20, 4]\n",
        "print(dup)\n",
        "Removed = sorted(set(dup))\n",
        "print(Removed)"
      ],
      "execution_count": 36,
      "outputs": [
        {
          "output_type": "stream",
          "text": [
            "[2, 4, 10, 20, 5, 2, 20, 4]\n",
            "[2, 4, 5, 10, 20]\n"
          ],
          "name": "stdout"
        }
      ]
    },
    {
      "cell_type": "markdown",
      "metadata": {
        "id": "UoGNKilDjZ8K"
      },
      "source": [
        "# 24) How to find an index of an element in the python list?\n",
        "\n"
      ]
    },
    {
      "cell_type": "code",
      "metadata": {
        "colab": {
          "base_uri": "https://localhost:8080/"
        },
        "id": "tHMyUSiGjcll",
        "outputId": "b96029e8-0f63-4d75-85c6-3c9f36437dae"
      },
      "source": [
        "a = [1,8,2,7,3,6,9,4,5]\n",
        "a.index(3)"
      ],
      "execution_count": 37,
      "outputs": [
        {
          "output_type": "execute_result",
          "data": {
            "text/plain": [
              "4"
            ]
          },
          "metadata": {
            "tags": []
          },
          "execution_count": 37
        }
      ]
    },
    {
      "cell_type": "markdown",
      "metadata": {
        "id": "wBgiRByKjynB"
      },
      "source": [
        "# 25) How to find the occurrences of an element in the python list?\n",
        "**Answer:** By using count() function.\n"
      ]
    },
    {
      "cell_type": "code",
      "metadata": {
        "colab": {
          "base_uri": "https://localhost:8080/"
        },
        "id": "hDO8Mf60j_H2",
        "outputId": "f71ae60f-026c-43f7-cf5d-037f513eab66"
      },
      "source": [
        "a = [1,2,2,7,3,2,6,9,2,4,5]\n",
        "b = a.count(2)\n",
        "print(b)"
      ],
      "execution_count": 38,
      "outputs": [
        {
          "output_type": "stream",
          "text": [
            "4\n"
          ],
          "name": "stdout"
        }
      ]
    },
    {
      "cell_type": "markdown",
      "metadata": {
        "id": "LHXf4xVjkapq"
      },
      "source": [
        "# 26) How to insert an item at a given position?\n",
        "**Answer:** By using insery function and the item index."
      ]
    },
    {
      "cell_type": "code",
      "metadata": {
        "colab": {
          "base_uri": "https://localhost:8080/"
        },
        "id": "E6uJyfSXM3iQ",
        "outputId": "1f90462e-f751-498b-c81e-a65f9170baa7"
      },
      "source": [
        "list =[1,2,4,5]\n",
        "list.insert(2,3)\n",
        "print(list)"
      ],
      "execution_count": 39,
      "outputs": [
        {
          "output_type": "stream",
          "text": [
            "[1, 2, 3, 4, 5]\n"
          ],
          "name": "stdout"
        }
      ]
    },
    {
      "cell_type": "markdown",
      "metadata": {
        "id": "K6hR7krYNOzO"
      },
      "source": [
        "# 27) How to check if an item is in the list?\n",
        "\n",
        "**Answer:** By using \"is in\" method if it return True then The element was in list otherwise false."
      ]
    },
    {
      "cell_type": "code",
      "metadata": {
        "colab": {
          "base_uri": "https://localhost:8080/"
        },
        "id": "GQ0ULlnqlaoX",
        "outputId": "4b2b2056-9a42-4fb2-9d7a-c3e00a43a0ac"
      },
      "source": [
        "list = [1,2,3,4,5]\n",
        "if 6 in list:\n",
        "  print('False')\n",
        "else:\n",
        "  print('True')"
      ],
      "execution_count": 40,
      "outputs": [
        {
          "output_type": "stream",
          "text": [
            "True\n"
          ],
          "name": "stdout"
        }
      ]
    },
    {
      "cell_type": "markdown",
      "metadata": {
        "id": "HQ4ow7ma1kKA"
      },
      "source": [
        "# 28) How to flatten a list in python?"
      ]
    },
    {
      "cell_type": "code",
      "metadata": {
        "colab": {
          "base_uri": "https://localhost:8080/"
        },
        "id": "j4P8h1o6l6Fp",
        "outputId": "a02344e7-dd24-4bd6-d6cc-546bdfc39e51"
      },
      "source": [
        "a = [[1,2],[3,4]]\n",
        "print (a)\n",
        "# flat_list = [item for sublist in t for item in sublist]\n",
        "flatten = lambda t: [item for sublist in t for item in sublist]\n",
        "print (flatten)\n",
        "\n"
      ],
      "execution_count": 41,
      "outputs": [
        {
          "output_type": "stream",
          "text": [
            "[[1, 2], [3, 4]]\n",
            "<function <lambda> at 0x7fcea2804950>\n"
          ],
          "name": "stdout"
        }
      ]
    }
  ]
}